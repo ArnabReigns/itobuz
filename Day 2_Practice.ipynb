{
 "cells": [
  {
   "cell_type": "code",
   "execution_count": 1,
   "id": "3a040a06-ba10-41be-85df-78c502ecb759",
   "metadata": {},
   "outputs": [
    {
     "name": "stdout",
     "output_type": "stream",
     "text": [
      "hi\n"
     ]
    }
   ],
   "source": [
    "print('hi')"
   ]
  },
  {
   "cell_type": "code",
   "execution_count": 2,
   "id": "7e8bbf2d-cfba-40cc-abf9-6a539795b3ea",
   "metadata": {},
   "outputs": [
    {
     "name": "stdout",
     "output_type": "stream",
     "text": [
      "Collecting numpy\n",
      "  Downloading numpy-2.0.2-cp39-cp39-macosx_14_0_arm64.whl.metadata (60 kB)\n",
      "Downloading numpy-2.0.2-cp39-cp39-macosx_14_0_arm64.whl (5.3 MB)\n",
      "\u001b[2K   \u001b[90m━━━━━━━━━━━━━━━━━━━━━━━━━━━━━━━━━━━━━━━━\u001b[0m \u001b[32m5.3/5.3 MB\u001b[0m \u001b[31m13.5 MB/s\u001b[0m eta \u001b[36m0:00:00\u001b[0m00:01\u001b[0m0:01\u001b[0m\n",
      "\u001b[?25hInstalling collected packages: numpy\n",
      "Successfully installed numpy-2.0.2\n"
     ]
    }
   ],
   "source": [
    "!pip install numpy"
   ]
  },
  {
   "cell_type": "code",
   "execution_count": 3,
   "id": "41805502-3776-4eb2-a9e4-093edb01b267",
   "metadata": {},
   "outputs": [],
   "source": [
    "import numpy as np"
   ]
  },
  {
   "cell_type": "markdown",
   "id": "28f0f998-1d8e-4a45-b99c-d642f989919e",
   "metadata": {},
   "source": [
    "# Projection of matrix"
   ]
  },
  {
   "cell_type": "code",
   "execution_count": 18,
   "id": "2374ec54-9256-454d-8ca3-5eda9073212f",
   "metadata": {},
   "outputs": [
    {
     "name": "stdout",
     "output_type": "stream",
     "text": [
      "[8.55235974 6.04743157 4.9377072 ]\n"
     ]
    }
   ],
   "source": [
    "a = np.array([1,2,3])\n",
    "b = np.array([4,5,6])\n",
    "\n",
    "projection = np.dot(a,b) \n",
    "mod = np.sqrt(np.dot(a,a) * a) \n",
    "\n",
    "\n",
    "print(projection/mod)"
   ]
  },
  {
   "cell_type": "markdown",
   "id": "e3a94f07-e5e3-4651-88f1-7431a2a32673",
   "metadata": {},
   "source": [
    "# Check if 3 vectors are linearly independent"
   ]
  },
  {
   "cell_type": "code",
   "execution_count": 26,
   "id": "d4a335e1-f061-4740-9f97-e436c24d12fd",
   "metadata": {},
   "outputs": [
    {
     "name": "stdout",
     "output_type": "stream",
     "text": [
      "The vectors are linearly dependent.\n"
     ]
    }
   ],
   "source": [
    "v1 = np.array([1, 2, 3])\n",
    "v2 = np.array([4, 5, 6])\n",
    "v3 = np.array([7, 8, 9])\n",
    "\n",
    "matrix = np.vstack([v1, v2, v3])\n",
    "\n",
    "rank = np.linalg.matrix_rank(matrix)\n",
    "\n",
    "if rank == len(matrix):\n",
    "    print(\"The vectors are linearly independent.\")\n",
    "else:\n",
    "    print(\"The vectors are linearly dependent.\")"
   ]
  },
  {
   "cell_type": "markdown",
   "id": "c9ee9990-9f59-4c69-a753-d2ce8e415889",
   "metadata": {},
   "source": [
    "# Check orthogonality"
   ]
  },
  {
   "cell_type": "code",
   "execution_count": 32,
   "id": "5bf4ae8c-f6f1-428a-b41c-e9d2125db790",
   "metadata": {},
   "outputs": [
    {
     "name": "stdout",
     "output_type": "stream",
     "text": [
      "it is orthogonal\n"
     ]
    }
   ],
   "source": [
    "mat = np.array([[1,0],[0,1]])\n",
    "mat_transpose = np.transpose(mat)\n",
    "\n",
    "result = np.dot(mat, mat_inverse)\n",
    "identity = np.eye(mat.shape[0]) \n",
    "if np.allclose(result, identity): \n",
    "    print(\"it is orthogonal\")\n",
    "else:\n",
    "     print(\"it is not orthogonal\")\n",
    "    \n"
   ]
  },
  {
   "cell_type": "code",
   "execution_count": 37,
   "id": "cab2cd97-9a85-49ff-a114-b9cb8b34574b",
   "metadata": {},
   "outputs": [
    {
     "name": "stdout",
     "output_type": "stream",
     "text": [
      "it is not orthogonal\n"
     ]
    }
   ],
   "source": [
    "mat = np.array([[4,-2,7],[-11, 8,7],[2,8,7]])\n",
    "mat_transpose = np.transpose(mat)\n",
    "\n",
    "result = np.dot(mat, mat_inverse)\n",
    "identity = np.eye(len(mat)) \n",
    "if np.allclose(result, identity): \n",
    "    print(\"it is orthogonal\")\n",
    "else:\n",
    "    print(\"it is not orthogonal\")\n",
    "    "
   ]
  },
  {
   "cell_type": "markdown",
   "id": "5bbdb8e5-34ff-42e2-9ca3-0a32d8e282c8",
   "metadata": {},
   "source": [
    "# Solve three equations \n",
    "- 3x+y+7z = 9\n",
    "- x+2y+2z=8\n",
    "- 9x+3y+4z=11"
   ]
  },
  {
   "cell_type": "code",
   "execution_count": 38,
   "id": "e12e65e1-c9f7-4f70-a414-4b84fea02912",
   "metadata": {},
   "outputs": [
    {
     "name": "stdout",
     "output_type": "stream",
     "text": [
      "The solution is: [-0.25882353  3.18823529  0.94117647]\n"
     ]
    }
   ],
   "source": [
    "\n",
    "A = np.array([\n",
    "    [3, 1, 7],\n",
    "    [1, 2, 2],\n",
    "    [9, 3, 4]\n",
    "])\n",
    "\n",
    "\n",
    "b = np.array([9, 8, 11])\n",
    "\n",
    "\n",
    "solution = np.linalg.solve(A, b)\n",
    "\n",
    "print(\"The solution is:\", solution)"
   ]
  },
  {
   "cell_type": "markdown",
   "id": "d84d8ebf-22b4-4249-a49c-731b3921b215",
   "metadata": {},
   "source": [
    "# Find Rank(A) and A inverse"
   ]
  },
  {
   "cell_type": "code",
   "execution_count": 45,
   "id": "2ac71611-fc78-463b-bcb0-522d89c4457a",
   "metadata": {},
   "outputs": [
    {
     "name": "stdout",
     "output_type": "stream",
     "text": [
      "[[0.5        0.         0.        ]\n",
      " [0.         0.11111111 0.        ]\n",
      " [0.         0.         0.125     ]]\n",
      "2\n"
     ]
    }
   ],
   "source": [
    "A = np.array([[2,4,2],[3,9,11],[8,16,8]])\n",
    "identity = np.eye(A.shape[0])\n",
    "Rank = np.linalg.matrix_rank(A)\n",
    "A_inv = identity / A\n",
    "print(A_inv)\n",
    "print(Rank)\n"
   ]
  },
  {
   "cell_type": "markdown",
   "id": "287bb901-e4f2-4c99-bb3f-5ead734b6e24",
   "metadata": {},
   "source": [
    "# Find cosine of the angle between [1,2,3] & [4,5,6]"
   ]
  },
  {
   "cell_type": "code",
   "execution_count": 49,
   "id": "f047a69b-5e82-4f17-ba6b-678655020c65",
   "metadata": {},
   "outputs": [
    {
     "name": "stdout",
     "output_type": "stream",
     "text": [
      "0.9746318461970762\n"
     ]
    }
   ],
   "source": [
    "A = np.array([1,2,3])\n",
    "B = np.array([4,5,6])\n",
    "\n",
    "def matrix_mod(mat,mat2):\n",
    "    return np.sqrt(np.dot(mat,mat) * np.dot(mat2,mat2))\n",
    "\n",
    "result = np.dot(A,B) / matrix_mod(A,B)\n",
    "print(result)"
   ]
  },
  {
   "cell_type": "markdown",
   "id": "2eaf9686-04c2-4e4f-a1ec-28089b5e9538",
   "metadata": {},
   "source": [
    "# Cross product "
   ]
  },
  {
   "cell_type": "code",
   "execution_count": 56,
   "id": "f4c0d0db-8078-4d74-80e9-8c4eaf7d75f0",
   "metadata": {},
   "outputs": [
    {
     "name": "stdout",
     "output_type": "stream",
     "text": [
      "7.348469228349542\n"
     ]
    }
   ],
   "source": [
    "def mod(mat):\n",
    "    return np.sqrt(np.dot(mat,mat))\n",
    "\n",
    "def matrix_cross(cos):\n",
    "    sin = np.sqrt(1 - cos**2);\n",
    "    return mod(A) * mod(B) * sin\n",
    "\n",
    "\n",
    "print(matrix_cross(result))"
   ]
  },
  {
   "cell_type": "markdown",
   "id": "f6443758-c357-44a8-9bc4-814626402eb7",
   "metadata": {},
   "source": [
    "# Eignen "
   ]
  },
  {
   "cell_type": "code",
   "execution_count": 62,
   "id": "e6d5c8e0-777b-438a-a060-aecbd1e4cffb",
   "metadata": {},
   "outputs": [
    {
     "name": "stdout",
     "output_type": "stream",
     "text": [
      "[[1 2]\n",
      " [4 5]]\n",
      "\n",
      "[-0.46410162  6.46410162]\n",
      "\n",
      "[[-0.80689822 -0.34372377]\n",
      " [ 0.59069049 -0.9390708 ]]\n"
     ]
    }
   ],
   "source": [
    "mat = np.array([[1,2],[4,5]]) \n",
    "\n",
    "print(mat) \n",
    "print(\"\") \n",
    "evalue, evect = np.linalg.eig(mat) \n",
    "  \n",
    "print(evalue) \n",
    "print(\"\") \n",
    "  \n",
    "print(evect)"
   ]
  },
  {
   "cell_type": "code",
   "execution_count": null,
   "id": "9ae4daa0-7811-40e4-9622-bc6fe3dae538",
   "metadata": {},
   "outputs": [],
   "source": []
  }
 ],
 "metadata": {
  "kernelspec": {
   "display_name": "Python 3 (ipykernel)",
   "language": "python",
   "name": "python3"
  },
  "language_info": {
   "codemirror_mode": {
    "name": "ipython",
    "version": 3
   },
   "file_extension": ".py",
   "mimetype": "text/x-python",
   "name": "python",
   "nbconvert_exporter": "python",
   "pygments_lexer": "ipython3",
   "version": "3.9.19"
  }
 },
 "nbformat": 4,
 "nbformat_minor": 5
}
